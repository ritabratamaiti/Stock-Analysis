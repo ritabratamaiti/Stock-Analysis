{
 "cells": [
  {
   "cell_type": "code",
   "execution_count": 75,
   "metadata": {},
   "outputs": [
    {
     "name": "stdout",
     "output_type": "stream",
     "text": [
      "Warning: xgboost.XGBRegressor is not available and will not be used by TPOT.\n"
     ]
    }
   ],
   "source": [
    "#import RapidML\n",
    "\n",
    "from sklearn.ensemble import GradientBoostingRegressor\n",
    "import numpy as np\n",
    "import pandas as pd\n",
    "from sklearn.model_selection import TimeSeriesSplit\n",
    "import quandl\n",
    "from datetime import datetime\n",
    "API = ''\n",
    "quandl.ApiConfig.api_key = API\n",
    "tpot = TPOTRegressor(generations=5, population_size=50,verbosity=2, cv=TimeSeriesSplit(n_splits=15))\n"
   ]
  },
  {
   "cell_type": "code",
   "execution_count": 2,
   "metadata": {
    "scrolled": true
   },
   "outputs": [
    {
     "name": "stdout",
     "output_type": "stream",
     "text": [
      "              Open    High     Low   Close         WAP  No. of Shares  \\\n",
      "Date                                                                    \n",
      "2003-07-09  158.40  170.25  156.10  164.05  165.601766     16127441.0   \n",
      "2003-07-10  165.95  168.25  164.35  166.95  166.685458      3565356.0   \n",
      "2003-07-11  167.50  174.80  166.25  173.40  172.271289      4566262.0   \n",
      "2003-07-14  175.00  179.20  174.05  178.20  177.760520      2336576.0   \n",
      "2003-07-15  179.80  181.80  173.00  176.35  176.785983      2368760.0   \n",
      "\n",
      "            No. of Trades  Total Turnover  Deliverable Quantity  \\\n",
      "Date                                                              \n",
      "2003-07-09        72917.0    2.670733e+09                   NaN   \n",
      "2003-07-10        20210.0    5.942930e+08                   NaN   \n",
      "2003-07-11        25626.0    7.866358e+08                   NaN   \n",
      "2003-07-14        14128.0    4.153510e+08                   NaN   \n",
      "2003-07-15        16230.0    4.187636e+08                   NaN   \n",
      "\n",
      "            % Deli. Qty to Traded Qty  Spread H-L  Spread C-O  \n",
      "Date                                                           \n",
      "2003-07-09                        NaN       14.15        5.65  \n",
      "2003-07-10                        NaN        3.90        1.00  \n",
      "2003-07-11                        NaN        8.55        5.90  \n",
      "2003-07-14                        NaN        5.15        3.20  \n",
      "2003-07-15                        NaN        8.80       -3.45  \n",
      "             Close\n",
      "Date              \n",
      "2003-07-09  164.05\n",
      "2003-07-10  166.95\n",
      "2003-07-11  173.40\n",
      "2003-07-14  178.20\n",
      "2003-07-15  176.35\n"
     ]
    }
   ],
   "source": [
    "df = quandl.get(\"BSE/BOM532500\")\n",
    "print(df.head())\n",
    "df = df[['Close']]\n",
    "print(df.head())"
   ]
  },
  {
   "cell_type": "code",
   "execution_count": 3,
   "metadata": {},
   "outputs": [
    {
     "name": "stdout",
     "output_type": "stream",
     "text": [
      "        Date   Close\n",
      "0 2003-07-09  164.05\n",
      "1 2003-07-10  166.95\n",
      "2 2003-07-11  173.40\n",
      "3 2003-07-14  178.20\n",
      "4 2003-07-15  176.35\n"
     ]
    }
   ],
   "source": [
    "df = df.reset_index()\n",
    "print(df.head())"
   ]
  },
  {
   "cell_type": "code",
   "execution_count": 4,
   "metadata": {
    "collapsed": true
   },
   "outputs": [],
   "source": [
    "X = df.values[:,0]\n",
    "ar = []\n",
    "import time\n",
    "\n",
    "for x in X:\n",
    "    ar.append(time.mktime(x.timetuple()))\n",
    "df['Date'] = ar"
   ]
  },
  {
   "cell_type": "code",
   "execution_count": 48,
   "metadata": {
    "collapsed": true
   },
   "outputs": [],
   "source": [
    "i = 0\n",
    "ar2 = []\n",
    "ar3 = []\n",
    "iv = 24*60*60\n",
    "s = ar[-1] \n",
    "for i in range(365*10):\n",
    "    s+=iv\n",
    "    ar2.append(s)\n",
    "    ar3.append(datetime.fromtimestamp(s))\n"
   ]
  },
  {
   "cell_type": "code",
   "execution_count": 39,
   "metadata": {},
   "outputs": [
    {
     "name": "stdout",
     "output_type": "stream",
     "text": [
      "           Date   Close\n",
      "0  1.057680e+09  164.05\n",
      "1  1.057766e+09  166.95\n",
      "2  1.057853e+09  173.40\n",
      "3  1.058112e+09  178.20\n",
      "4  1.058198e+09  176.35\n"
     ]
    }
   ],
   "source": [
    "print(df.head())"
   ]
  },
  {
   "cell_type": "code",
   "execution_count": 76,
   "metadata": {},
   "outputs": [
    {
     "name": "stdout",
     "output_type": "stream",
     "text": [
      "\n",
      "Using RapidML Regressor; Experimental, For Issues Contact Author: ritabratamaiti@hiretrex.com\n",
      "\n",
      "Continuing without label encoding\n"
     ]
    },
    {
     "name": "stderr",
     "output_type": "stream",
     "text": [
      "                                                                              \r"
     ]
    },
    {
     "name": "stdout",
     "output_type": "stream",
     "text": [
      "Generation 1 - Current best internal CV score: -424886.65300039493\n"
     ]
    },
    {
     "name": "stderr",
     "output_type": "stream",
     "text": [
      "                                                                              \r"
     ]
    },
    {
     "name": "stdout",
     "output_type": "stream",
     "text": [
      "Generation 2 - Current best internal CV score: -391112.2071370531\n"
     ]
    },
    {
     "name": "stderr",
     "output_type": "stream",
     "text": [
      "                                                                              \r"
     ]
    },
    {
     "name": "stdout",
     "output_type": "stream",
     "text": [
      "Generation 3 - Current best internal CV score: -391112.2071370531\n"
     ]
    },
    {
     "name": "stderr",
     "output_type": "stream",
     "text": [
      "                                                                              \r"
     ]
    },
    {
     "name": "stdout",
     "output_type": "stream",
     "text": [
      "Generation 4 - Current best internal CV score: -386316.3705514855\n"
     ]
    },
    {
     "name": "stderr",
     "output_type": "stream",
     "text": [
      "                                                                              \r"
     ]
    },
    {
     "name": "stdout",
     "output_type": "stream",
     "text": [
      "Generation 5 - Current best internal CV score: -379455.88133692543\n"
     ]
    },
    {
     "name": "stderr",
     "output_type": "stream",
     "text": [
      "                                                                              \r"
     ]
    },
    {
     "name": "stdout",
     "output_type": "stream",
     "text": [
      "\n",
      "Best pipeline: GradientBoostingRegressor(input_matrix, alpha=0.85, learning_rate=1.0, loss=quantile, max_depth=10, max_features=0.8, min_samples_leaf=6, min_samples_split=9, n_estimators=100, subsample=0.7000000000000001)\n",
      "\n",
      "Sample Output from input dataframe: \n",
      "1057852800.0,173.4\n"
     ]
    }
   ],
   "source": [
    "model = RapidML.rapid_regressor(df,model = tpot)"
   ]
  },
  {
   "cell_type": "code",
   "execution_count": 79,
   "metadata": {
    "collapsed": true
   },
   "outputs": [],
   "source": [
    "Y = []\n",
    "Z = []\n",
    "\n",
    "\n",
    "for x in df.values[:,0]:\n",
    "    Y.append(model.predict(x))\n",
    "\n",
    "for x in ar2:\n",
    "    Z.append(model.predict(x))   "
   ]
  },
  {
   "cell_type": "code",
   "execution_count": 80,
   "metadata": {
    "scrolled": false
   },
   "outputs": [
    {
     "data": {
      "text/html": [
       "<iframe id=\"igraph\" scrolling=\"no\" style=\"border:none;\" seamless=\"seamless\" src=\"https://plot.ly/~ritabratamaiti/39.embed\" height=\"525px\" width=\"100%\"></iframe>"
      ],
      "text/plain": [
       "<plotly.tools.PlotlyDisplay object>"
      ]
     },
     "execution_count": 80,
     "metadata": {},
     "output_type": "execute_result"
    }
   ],
   "source": [
    "\n",
    "\n",
    "import plotly.plotly as py\n",
    "import plotly.graph_objs as go\n",
    "import plotly\n",
    "plotly.tools.set_credentials_file(username='', api_key='')\n",
    "py.sign_in('', '')\n",
    "    \n",
    "data = [go.Scatter(x=X, y=df['Close'], name = \"Actual\"), go.Scatter(x=X, y=Y, name = \"fitted\"), go.Scatter(x = ar3, y=Z, name = \"Predicted\")]\n",
    "py.iplot(data, filename = 'predictions_rapidML')"
   ]
  },
  {
   "cell_type": "code",
   "execution_count": null,
   "metadata": {
    "collapsed": true
   },
   "outputs": [],
   "source": []
  }
 ],
 "metadata": {
  "kernelspec": {
   "display_name": "Python 3",
   "language": "python",
   "name": "python3"
  },
  "language_info": {
   "codemirror_mode": {
    "name": "ipython",
    "version": 3
   },
   "file_extension": ".py",
   "mimetype": "text/x-python",
   "name": "python",
   "nbconvert_exporter": "python",
   "pygments_lexer": "ipython3",
   "version": "3.6.3"
  }
 },
 "nbformat": 4,
 "nbformat_minor": 2
}
